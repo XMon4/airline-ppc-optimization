{
 "cells": [
  {
   "cell_type": "markdown",
   "id": "c823b2a5",
   "metadata": {},
   "source": [
    "# Airline PPC – EDA & Allocation"
   ]
  },
  {
   "cell_type": "code",
   "execution_count": null,
   "id": "d947e4c2",
   "metadata": {},
   "outputs": [],
   "source": [
    "\n",
    "import pandas as pd\n",
    "import numpy as np\n",
    "import matplotlib.pyplot as plt\n",
    "\n",
    "df = pd.read_csv(r\"/mnt/data/airline_ppc_portfolio/data/clean/ppc_clean.csv\")\n",
    "agg = pd.read_csv(r\"/mnt/data/airline_ppc_portfolio/data/clean/summary_by_publisher_match_group.csv\")\n",
    "\n",
    "# Quick KPIs\n",
    "totals = {\"impressions\": int(df[\"impressions\"].sum()),\n",
    "           \"clicks\": int(df[\"clicks\"].sum()),\n",
    "           \"spend\": float(df[\"click_charges\"].sum()),\n",
    "           \"bookings\": int(df[\"booking\"].sum()),\n",
    "           \"revenue\": float(df[\"revenue\"].sum())}\n",
    "ctr = totals[\"clicks\"]/totals[\"impressions\"]\n",
    "cpc = totals[\"spend\"]/totals[\"clicks\"]\n",
    "cvr = totals[\"bookings\"]/totals[\"clicks\"]\n",
    "roas = totals[\"revenue\"]/totals[\"spend\"]\n",
    "totals, ctr, cpc, cvr, roas\n"
   ]
  },
  {
   "cell_type": "code",
   "execution_count": null,
   "id": "6df1e45e",
   "metadata": {},
   "outputs": [],
   "source": [
    "\n",
    "# Visuals\n",
    "plt.figure(figsize=(7,6))\n",
    "plt.scatter(agg[\"spend\"], agg[\"revenue\"])\n",
    "plt.title(\"Spend vs Revenue by Group\")\n",
    "plt.xlabel(\"Spend\"); plt.ylabel(\"Revenue\"); plt.tight_layout(); plt.show()\n"
   ]
  },
  {
   "cell_type": "markdown",
   "id": "77049cbc",
   "metadata": {},
   "source": [
    "## Rule-based recommendations"
   ]
  },
  {
   "cell_type": "code",
   "execution_count": null,
   "id": "948ca5c0",
   "metadata": {},
   "outputs": [],
   "source": [
    "\n",
    "def safe_ratio(n,d): \n",
    "    import numpy as np\n",
    "    return np.where(d>0, n/d, np.nan)\n",
    "\n",
    "agg[\"ctr\"] = safe_ratio(agg[\"clicks\"], agg[\"impressions\"])\n",
    "agg[\"cvr\"] = safe_ratio(agg[\"bookings\"], agg[\"clicks\"])\n",
    "agg[\"cpc\"] = safe_ratio(agg[\"spend\"], agg[\"clicks\"])\n",
    "agg[\"cpa\"] = safe_ratio(agg[\"spend\"], agg[\"bookings\"])\n",
    "agg[\"roas\"] = safe_ratio(agg[\"revenue\"], agg[\"spend\"])\n",
    "\n",
    "def recommend_row(r):\n",
    "    sufficient_clicks = r[\"clicks\"] >= 100\n",
    "    roas = r[\"roas\"] if pd.notna(r[\"roas\"]) else 0\n",
    "    if sufficient_clicks and roas >= 1.2:\n",
    "        return \"INCREASE_SPEND_+20%\"\n",
    "    if sufficient_clicks and roas <= 0.8:\n",
    "        return \"DECREASE_SPEND_-20%\"\n",
    "    if (r[\"clicks\"] >= 50) and (r[\"bookings\"] == 0):\n",
    "        return \"PAUSE_TEST\"\n",
    "    if r[\"clicks\"] < 20:\n",
    "        return \"HOLD_LOW_DATA\"\n",
    "    return \"HOLD\"\n",
    "\n",
    "agg[\"recommendation\"] = agg.apply(recommend_row, axis=1)\n",
    "agg.sort_values([\"recommendation\",\"roas\"], ascending=[True, False]).head(20)\n"
   ]
  },
  {
   "cell_type": "markdown",
   "id": "0c8051c1",
   "metadata": {},
   "source": [
    "## Heuristic budget reallocation (bounded 0.5×–1.5×)"
   ]
  },
  {
   "cell_type": "code",
   "execution_count": null,
   "id": "6b07eb6f",
   "metadata": {},
   "outputs": [],
   "source": [
    "\n",
    "alloc = agg.copy()\n",
    "alloc[\"current_spend\"] = alloc[\"spend\"].fillna(0.0)\n",
    "total_budget = float(alloc[\"current_spend\"].sum())\n",
    "alloc[\"score\"] = alloc[\"roas\"].fillna(0.0) - 1.0\n",
    "alpha = 0.5\n",
    "alloc[\"proposed\"] = alloc[\"current_spend\"] * (1 + alpha * alloc[\"score\"])\n",
    "alloc[\"min\"] = 0.5 * alloc[\"current_spend\"]\n",
    "alloc[\"max\"] = 1.5 * alloc[\"current_spend\"]\n",
    "alloc[\"proposed\"] = alloc[[\"proposed\",\"min\",\"max\"]].max(axis=1)\n",
    "alloc[\"proposed\"] = pd.concat([alloc[\"proposed\"], alloc[\"max\"]], axis=1).min(axis=1)\n",
    "scale = total_budget / alloc[\"proposed\"].sum() if alloc[\"proposed\"].sum() else 1.0\n",
    "alloc[\"proposed\"] *= scale\n",
    "alloc[[\"publisher_name\",\"match_type\",\"keyword_group\",\"current_spend\",\"proposed\",\"roas\"]].head(20)\n"
   ]
  }
 ],
 "metadata": {},
 "nbformat": 4,
 "nbformat_minor": 5
}
